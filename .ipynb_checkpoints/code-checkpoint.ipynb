{
 "cells": [
  {
   "cell_type": "code",
   "execution_count": 1,
   "metadata": {},
   "outputs": [
    {
     "name": "stderr",
     "output_type": "stream",
     "text": [
      "Using TensorFlow backend.\n"
     ]
    }
   ],
   "source": [
    "#Libraries\n",
    "import os\n",
    "import pandas as pd\n",
    "import numpy as np\n",
    "import keras\n",
    "import tensorflow\n",
    "import sklearn\n",
    "from matplotlib import pyplot as plt\n",
    "import sys\n",
    "import surfboard\n",
    "from surfboard.feature_extraction import extract_features"
   ]
  },
  {
   "cell_type": "code",
   "execution_count": 2,
   "metadata": {},
   "outputs": [],
   "source": [
    "#Misc. adjustments\n",
    "pd.set_option('max_colwidth', 200)"
   ]
  },
  {
   "cell_type": "code",
   "execution_count": 3,
   "metadata": {},
   "outputs": [
    {
     "data": {
      "text/html": [
       "<div>\n",
       "<style scoped>\n",
       "    .dataframe tbody tr th:only-of-type {\n",
       "        vertical-align: middle;\n",
       "    }\n",
       "\n",
       "    .dataframe tbody tr th {\n",
       "        vertical-align: top;\n",
       "    }\n",
       "\n",
       "    .dataframe thead th {\n",
       "        text-align: right;\n",
       "    }\n",
       "</style>\n",
       "<table border=\"1\" class=\"dataframe\">\n",
       "  <thead>\n",
       "    <tr style=\"text-align: right;\">\n",
       "      <th></th>\n",
       "      <th>file</th>\n",
       "      <th>id</th>\n",
       "    </tr>\n",
       "  </thead>\n",
       "  <tbody>\n",
       "    <tr>\n",
       "      <th>0</th>\n",
       "      <td>03-0-18.wav</td>\n",
       "      <td>3</td>\n",
       "    </tr>\n",
       "    <tr>\n",
       "      <th>1</th>\n",
       "      <td>03-0-19.wav</td>\n",
       "      <td>3</td>\n",
       "    </tr>\n",
       "    <tr>\n",
       "      <th>2</th>\n",
       "      <td>03-0-21.wav</td>\n",
       "      <td>3</td>\n",
       "    </tr>\n",
       "    <tr>\n",
       "      <th>3</th>\n",
       "      <td>03-0-09.wav</td>\n",
       "      <td>3</td>\n",
       "    </tr>\n",
       "    <tr>\n",
       "      <th>4</th>\n",
       "      <td>03-0-08.wav</td>\n",
       "      <td>3</td>\n",
       "    </tr>\n",
       "  </tbody>\n",
       "</table>\n",
       "</div>"
      ],
      "text/plain": [
       "          file id\n",
       "0  03-0-18.wav  3\n",
       "1  03-0-19.wav  3\n",
       "2  03-0-21.wav  3\n",
       "3  03-0-09.wav  3\n",
       "4  03-0-08.wav  3"
      ]
     },
     "execution_count": 3,
     "metadata": {},
     "output_type": "execute_result"
    }
   ],
   "source": [
    "#Listing files\n",
    "filelist = os.listdir(\"Source/vox\")\n",
    "\n",
    "#Read files into pandas\n",
    "source = pd.DataFrame(filelist)\n",
    "#Rename file name column\n",
    "source = source.rename(columns={0:'file'})\n",
    "#Filter out DS files from macOS\n",
    "source = source[source.file != \".DS_Store\"]\n",
    "#Reset index\n",
    "source = source.reset_index(drop = True)\n",
    "\n",
    "#Extraction of variables from filenames\n",
    "speaker_id = []\n",
    "variable = []\n",
    "for i in range (0, len(source)):\n",
    "    id = source[\"file\"][i][0:2]\n",
    "    if id[0:1] == \"0\":\n",
    "        speaker_id.append(id[1])\n",
    "    else:\n",
    "        speaker_id.append(id)\n",
    "    \n",
    "#Adding variables to dataframe\n",
    "source[\"id\"] = speaker_id\n",
    "\n",
    "source.head()"
   ]
  },
  {
   "cell_type": "code",
   "execution_count": 4,
   "metadata": {
    "scrolled": true
   },
   "outputs": [],
   "source": [
    "#Create training & valuation dataframes\n",
    "def create_sets(subjects, train_sample):\n",
    "    train_set = pd.DataFrame()\n",
    "    val_set = pd.DataFrame()\n",
    "    selection = subjects\n",
    "\n",
    "    for i in selection:\n",
    "        tmp = source[(source.id==str(i))]\n",
    "        train_tmp = tmp.sample(5)\n",
    "        val_set = val_set.append(tmp.drop(train_tmp.index))\n",
    "        train_set = train_set.append(train_tmp)\n",
    "\n",
    "    train_set = train_set.reset_index()\n",
    "    train_set.file = os.path.join(sys.path[0], \"Source/vox/\") + train_set.file \n",
    "    val_set = val_set.reset_index()\n",
    "    val_set.file = os.path.join(sys.path[0], \"Source/vox/\") + val_set.file \n",
    "\n",
    "    train_files = train_set.file.tolist()\n",
    "    val_files = val_set.file.tolist()\n",
    "    \n",
    "    return train_set, val_set, train_files, val_files"
   ]
  },
  {
   "cell_type": "code",
   "execution_count": 5,
   "metadata": {},
   "outputs": [],
   "source": [
    "#Feature extraction function using surfboard\n",
    "def feature_extract(files):\n",
    "    features = surfboard.feature_extraction.extract_features_from_paths(files, [\"mfcc\", 'f0_statistics', 'formants'], statistics_list=['mean'], sample_rate=44100)\n",
    "    np.array(features)\n",
    "    return features"
   ]
  },
  {
   "cell_type": "code",
   "execution_count": 6,
   "metadata": {},
   "outputs": [],
   "source": [
    "#Pre-Processing\n",
    "def processing(X_train, X_val, train_set, val_set):\n",
    "    y_train = np.array(train_set[\"id\"])\n",
    "    y_val = np.array(val_set[\"id\"])\n",
    "    \n",
    "    from sklearn.preprocessing import LabelEncoder\n",
    "    from keras.utils.np_utils import to_categorical\n",
    "    lb = LabelEncoder()\n",
    "    y_train = to_categorical(lb.fit_transform(y_train))\n",
    "    y_val = to_categorical(lb.fit_transform(y_val))\n",
    "    \n",
    "    from sklearn.preprocessing import StandardScaler\n",
    "    ss = StandardScaler()\n",
    "    X_train = ss.fit_transform(X_train)\n",
    "    X_val = ss.transform(X_val)\n",
    "    #X_test = ss.transform(X_test)\n",
    "    \n",
    "    return y_train, y_val, X_train, X_val"
   ]
  },
  {
   "cell_type": "code",
   "execution_count": 7,
   "metadata": {},
   "outputs": [],
   "source": [
    "#Model\n",
    "def build_model():\n",
    "    from keras.models import Sequential\n",
    "    from keras.layers import Dense, Dropout, Activation, Flatten\n",
    "    from keras.callbacks import EarlyStopping\n",
    "    model = Sequential()\n",
    "    model.add(Dense(19, input_shape=(19,), activation = 'relu'))\n",
    "    #model.add(Dropout(0.1))\n",
    "    model.add(Dense(128, activation = 'relu'))\n",
    "    #model.add(Dropout(0.25))\n",
    "    model.add(Dense(128, activation = 'relu'))\n",
    "    #model.add(Dropout(0.5))\n",
    "    model.add(Dense(len(selection), activation = 'softmax'))\n",
    "    model.compile(loss='categorical_crossentropy', metrics=['accuracy'], optimizer='adam')\n",
    "    early_stop = EarlyStopping(monitor='val_loss', min_delta=0, patience=100, verbose=1, mode='auto')\n",
    "    \n",
    "    return model, early_stop\n"
   ]
  },
  {
   "cell_type": "code",
   "execution_count": 8,
   "metadata": {},
   "outputs": [],
   "source": [
    "#Train Neural Network\n",
    "def train_model(model, early_stop, log=0, graph=0):\n",
    "    history = model.fit(X_train, y_train, batch_size=20, epochs=100,\n",
    "                        validation_data=(X_val, y_val),\n",
    "                        callbacks=[early_stop], verbose = log)\n",
    "    \n",
    "    train_accuracy = history.history['accuracy']\n",
    "    val_accuracy = history.history['val_accuracy']\n",
    "    \n",
    "    if graph == 1:\n",
    "        # Check train accuracy and validation accuracy over epochs.\n",
    "        plt.figure(figsize=(12, 8))# Generate line plot of training, testing loss over epochs.\n",
    "        plt.plot(train_accuracy, label='Training Accuracy', color='#185fad')\n",
    "        plt.plot(val_accuracy, label='Validation Accuracy', color='orange')# Set title\n",
    "        plt.title('Training and Validation Accuracy by Epoch', fontsize = 25)\n",
    "        plt.xlabel('Epoch', fontsize = 18)\n",
    "        plt.ylabel('Categorical Crossentropy', fontsize = 18)\n",
    "        plt.xticks(range(0,100,5), range(0,100,5))\n",
    "        plt.legend(fontsize = 18);\n",
    "    \n",
    "    return val_accuracy"
   ]
  },
  {
   "cell_type": "code",
   "execution_count": null,
   "metadata": {},
   "outputs": [],
   "source": [
    "#Creating sets\n",
    "[train_set, val_set, train_files, val_files] = create_sets((1,3), 10)\n",
    "\n",
    "#Extract features\n",
    "X_train = feature_extract(train_files)\n",
    "X_val = feature_extract(val_files)\n",
    "\n",
    "#Pre-Processing\n",
    "[y_train, y_val, X_train, X_val] = processing(X_train, X_val, train_set, val_set)\n",
    "\n",
    "#Build model\n",
    "[model, early_stop] = build_model()\n",
    "\n",
    "#Train\n",
    "results = train_model(model, early_stop, log=0, graph = 0)    "
   ]
  },
  {
   "cell_type": "code",
   "execution_count": 11,
   "metadata": {},
   "outputs": [
    {
     "name": "stderr",
     "output_type": "stream",
     "text": [
      "Extracting features from paths...: 100%|██████████| 10/10 [00:01<00:00,  9.77it/s]\n",
      "Extracting features from paths...: 100%|██████████| 34/34 [00:03<00:00, 10.18it/s]\n",
      "Extracting features from paths...: 100%|██████████| 10/10 [00:01<00:00,  9.75it/s]\n",
      "Extracting features from paths...: 100%|██████████| 34/34 [00:03<00:00, 10.07it/s]\n",
      "Extracting features from paths...: 100%|██████████| 10/10 [00:01<00:00,  9.51it/s]\n",
      "Extracting features from paths...: 100%|██████████| 34/34 [00:03<00:00, 10.16it/s]\n",
      "Extracting features from paths...: 100%|██████████| 10/10 [00:01<00:00,  9.16it/s]\n",
      "Extracting features from paths...: 100%|██████████| 34/34 [00:03<00:00, 10.27it/s]\n",
      "Extracting features from paths...: 100%|██████████| 10/10 [00:01<00:00,  9.04it/s]\n",
      "Extracting features from paths...: 100%|██████████| 34/34 [00:03<00:00,  9.90it/s]\n"
     ]
    },
    {
     "data": {
      "image/png": "[encoded data removed]",
      "text/plain": [
       "<Figure size 864x576 with 1 Axes>"
      ]
     },
     "metadata": {
      "needs_background": "light"
     },
     "output_type": "display_data"
    }
   ],
   "source": [
    "#Parameters\n",
    "selection=(1,3)\n",
    "train_sample = 5\n",
    "iterations = 5\n",
    "log = 0\n",
    "graph = 0\n",
    "\n",
    "results = []\n",
    "\n",
    "for i in range(iterations):\n",
    "    #Creating sets\n",
    "    [train_set, val_set, train_files, val_files] = create_sets(selection, train_sample)\n",
    "    train_files\n",
    "    #Extract features\n",
    "    X_train = feature_extract(train_files)\n",
    "    X_val = feature_extract(val_files)\n",
    "\n",
    "    #Pre-Processing\n",
    "    [y_train, y_val, X_train, X_val] = processing(X_train, X_val, train_set, val_set)\n",
    "\n",
    "    #Build model\n",
    "    [model, early_stop] = build_model()\n",
    "\n",
    "    #Train\n",
    "    result = train_model(model, early_stop, log, graph)\n",
    "    results.append(result)\n",
    "\n",
    "#Sum accuracy from all runs\n",
    "sum_results = [0] * len(results[0])\n",
    "for i in range (0, len(results)):\n",
    "    sum_results = np.add(sum_results, results[i])\n",
    "\n",
    "#Take average of accuracy from all runs\n",
    "avg_results = [x / len(results) for x in sum_results]\n",
    "\n",
    "# Check average accuracy\n",
    "plt.figure(figsize=(12, 8))# Generate line plot of training, testing loss over epochs.\n",
    "plt.plot(avg_results, label='Validation Accuracy', color='orange')# Set title\n",
    "plt.title('Validation Accuracy by Epoch', fontsize = 25)\n",
    "plt.xlabel('Epoch', fontsize = 18)\n",
    "plt.ylabel('Categorical Crossentropy', fontsize = 18)\n",
    "plt.xticks(range(0,100,5), range(0,100,5))\n",
    "plt.legend(fontsize = 18);"
   ]
  },
  {
   "cell_type": "code",
   "execution_count": null,
   "metadata": {},
   "outputs": [],
   "source": [
    "train_files"
   ]
  },
  {
   "cell_type": "code",
   "execution_count": null,
   "metadata": {},
   "outputs": [],
   "source": []
  }
 ],
 "metadata": {
  "kernelspec": {
   "display_name": "Python 3",
   "language": "python",
   "name": "python3"
  },
  "language_info": {
   "codemirror_mode": {
    "name": "ipython",
    "version": 3
   },
   "file_extension": ".py",
   "mimetype": "text/x-python",
   "name": "python",
   "nbconvert_exporter": "python",
   "pygments_lexer": "ipython3",
   "version": "3.7.6"
  }
 },
 "nbformat": 4,
 "nbformat_minor": 4
}
